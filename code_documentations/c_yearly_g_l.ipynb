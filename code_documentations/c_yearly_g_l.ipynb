{
 "cells": [
  {
   "cell_type": "code",
   "execution_count": 1,
   "id": "ffe6ff52",
   "metadata": {},
   "outputs": [],
   "source": [
    "import os\n",
    "import pandas as pd"
   ]
  },
  {
   "cell_type": "code",
   "execution_count": null,
   "id": "6006f57a",
   "metadata": {},
   "outputs": [
    {
     "name": "stdout",
     "output_type": "stream",
     "text": [
      "✅ Top gainers and losers calculated and saved!\n"
     ]
    }
   ],
   "source": [
    "folder_path = r\"C:\\prj_stock_analysis\\datas\\aggregated_data_1\"\n",
    "returns_list = []\n",
    "\n",
    "for file in os.listdir(folder_path):\n",
    "    if file.endswith('.csv'):\n",
    "        file_path = os.path.join(folder_path, file)\n",
    "        df = pd.read_csv(file_path)\n",
    "\n",
    "\n",
    "       \n",
    "        start_price = df['close'].iloc[0]\n",
    "        end_price = df['close'].iloc[-1]\n",
    "\n",
    "        \n",
    "        yearly_return = ((end_price - start_price) / start_price) * 100\n",
    "\n",
    "       \n",
    "        ticker = file.replace('.csv', '')\n",
    "        returns_list.append({'Ticker': ticker, 'Yearly Return (%)': yearly_return})\n",
    "\n",
    "\n",
    "returns_df = pd.DataFrame(returns_list)\n",
    "\n",
    "\n",
    "returns_df.to_csv(r\"C:\\prj_stock_analysis\\datas\\yearly_returns.csv\", index=False)\n",
    "\n",
    "\n",
    "top_5_gainers = returns_df.nlargest(5, 'Yearly Return (%)')\n",
    "top_5_losers = returns_df.nsmallest(5, 'Yearly Return (%)')\n",
    "\n",
    "\n",
    "top_5_gainers.to_csv(r\"C:\\prj_stock_analysis\\datas\\top_5_gainers.csv\", index=False)\n",
    "top_5_losers.to_csv(r\"C:\\prj_stock_analysis\\datas\\top_5_losers.csv\", index=False)\n",
    "\n",
    "print(\"✅ Top gainers and losers calculated and saved!\")\n"
   ]
  }
 ],
 "metadata": {
  "kernelspec": {
   "display_name": "stock_analysis",
   "language": "python",
   "name": "python3"
  },
  "language_info": {
   "codemirror_mode": {
    "name": "ipython",
    "version": 3
   },
   "file_extension": ".py",
   "mimetype": "text/x-python",
   "name": "python",
   "nbconvert_exporter": "python",
   "pygments_lexer": "ipython3",
   "version": "3.12.8"
  }
 },
 "nbformat": 4,
 "nbformat_minor": 5
}

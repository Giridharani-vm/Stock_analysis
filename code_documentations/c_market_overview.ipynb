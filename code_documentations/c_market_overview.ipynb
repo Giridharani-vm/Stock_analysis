{
 "cells": [
  {
   "cell_type": "code",
   "execution_count": 2,
   "id": "53b02d6e",
   "metadata": {},
   "outputs": [],
   "source": [
    "import os\n",
    "import pandas as pd"
   ]
  },
  {
   "cell_type": "code",
   "execution_count": 4,
   "id": "1885e5ed",
   "metadata": {},
   "outputs": [
    {
     "name": "stdout",
     "output_type": "stream",
     "text": [
      "✅ Total Green Stocks: 25\n",
      "✅ Total Red Stocks: 25\n",
      "✅ Average Latest Closing Price: 2295.34\n"
     ]
    }
   ],
   "source": [
    "\n",
    "folder_path = r\"C:\\prj_stock_analysis\\datas\\aggregated_data_1\"\n",
    "\n",
    "green_count = 0\n",
    "red_count = 0\n",
    "closing_prices = []\n",
    "\n",
    "# Loop through each file\n",
    "for file in os.listdir(folder_path):\n",
    "    if file.endswith('.csv'):\n",
    "        file_path = os.path.join(folder_path, file)\n",
    "        df = pd.read_csv(file_path)\n",
    "\n",
    "        # First and last close\n",
    "        start_price = df['close'].iloc[0]\n",
    "        end_price = df['close'].iloc[-1]\n",
    "\n",
    "        yearly_return = ((end_price - start_price) / start_price) * 100\n",
    "\n",
    "        # Counting green and red stocks\n",
    "        if yearly_return > 0:\n",
    "            green_count += 1\n",
    "        else:\n",
    "            red_count += 1\n",
    "\n",
    "        # Collect latest closing price\n",
    "        closing_prices.append(end_price)\n",
    "\n",
    "# Calculate Average Closing Price\n",
    "average_closing_price = sum(closing_prices) / len(closing_prices)\n",
    "\n",
    "# Print Results\n",
    "print(f\"✅ Total Green Stocks: {green_count}\")\n",
    "print(f\"✅ Total Red Stocks: {red_count}\")\n",
    "print(f\"✅ Average Latest Closing Price: {round(average_closing_price, 2)}\")\n"
   ]
  }
 ],
 "metadata": {
  "kernelspec": {
   "display_name": "stock_analysis",
   "language": "python",
   "name": "python3"
  },
  "language_info": {
   "codemirror_mode": {
    "name": "ipython",
    "version": 3
   },
   "file_extension": ".py",
   "mimetype": "text/x-python",
   "name": "python",
   "nbconvert_exporter": "python",
   "pygments_lexer": "ipython3",
   "version": "3.12.8"
  }
 },
 "nbformat": 4,
 "nbformat_minor": 5
}

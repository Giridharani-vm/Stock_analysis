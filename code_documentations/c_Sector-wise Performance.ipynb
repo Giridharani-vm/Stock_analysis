{
 "cells": [
  {
   "cell_type": "markdown",
   "id": "d7cdc423",
   "metadata": {},
   "source": [
    "importing modules"
   ]
  },
  {
   "cell_type": "code",
   "execution_count": 41,
   "id": "16938fdc",
   "metadata": {},
   "outputs": [],
   "source": [
    "import os\n",
    "import pandas as pd\n",
    "import ast"
   ]
  },
  {
   "cell_type": "markdown",
   "id": "8152cde9",
   "metadata": {},
   "source": [
    "sector data - clean"
   ]
  },
  {
   "cell_type": "code",
   "execution_count": 47,
   "id": "632a408e",
   "metadata": {},
   "outputs": [
    {
     "data": {
      "text/html": [
       "<div>\n",
       "<style scoped>\n",
       "    .dataframe tbody tr th:only-of-type {\n",
       "        vertical-align: middle;\n",
       "    }\n",
       "\n",
       "    .dataframe tbody tr th {\n",
       "        vertical-align: top;\n",
       "    }\n",
       "\n",
       "    .dataframe thead th {\n",
       "        text-align: right;\n",
       "    }\n",
       "</style>\n",
       "<table border=\"1\" class=\"dataframe\">\n",
       "  <thead>\n",
       "    <tr style=\"text-align: right;\">\n",
       "      <th></th>\n",
       "      <th>COMPANY</th>\n",
       "      <th>sector</th>\n",
       "      <th>Symbol</th>\n",
       "    </tr>\n",
       "  </thead>\n",
       "  <tbody>\n",
       "    <tr>\n",
       "      <th>0</th>\n",
       "      <td>ADANI ENTERPRISES</td>\n",
       "      <td>MISCELLANEOUS</td>\n",
       "      <td>ADANI ENTERPRISES: ADANIGREEN</td>\n",
       "    </tr>\n",
       "    <tr>\n",
       "      <th>1</th>\n",
       "      <td>ADANI PORTS &amp; SEZ</td>\n",
       "      <td>MISCELLANEOUS</td>\n",
       "      <td>ADANI PORTS &amp; SEZ: ADANIPORTS</td>\n",
       "    </tr>\n",
       "    <tr>\n",
       "      <th>2</th>\n",
       "      <td>APOLLO HOSPITALS</td>\n",
       "      <td>MISCELLANEOUS</td>\n",
       "      <td>APOLLO HOSPITALS: APOLLOHOSP</td>\n",
       "    </tr>\n",
       "    <tr>\n",
       "      <th>3</th>\n",
       "      <td>ASIAN PAINTS</td>\n",
       "      <td>PAINTS</td>\n",
       "      <td>ASIAN PAINTS: ASIANPAINT</td>\n",
       "    </tr>\n",
       "    <tr>\n",
       "      <th>4</th>\n",
       "      <td>AXIS BANK</td>\n",
       "      <td>BANKING</td>\n",
       "      <td>AXIS BANK: AXISBANK</td>\n",
       "    </tr>\n",
       "  </tbody>\n",
       "</table>\n",
       "</div>"
      ],
      "text/plain": [
       "             COMPANY         sector                         Symbol\n",
       "0  ADANI ENTERPRISES  MISCELLANEOUS  ADANI ENTERPRISES: ADANIGREEN\n",
       "1  ADANI PORTS & SEZ  MISCELLANEOUS  ADANI PORTS & SEZ: ADANIPORTS\n",
       "2   APOLLO HOSPITALS  MISCELLANEOUS   APOLLO HOSPITALS: APOLLOHOSP\n",
       "3       ASIAN PAINTS         PAINTS       ASIAN PAINTS: ASIANPAINT\n",
       "4          AXIS BANK        BANKING            AXIS BANK: AXISBANK"
      ]
     },
     "execution_count": 47,
     "metadata": {},
     "output_type": "execute_result"
    }
   ],
   "source": [
    "df = pd.read_csv(r\"C:\\prj_stock_analysis\\datas\\Sector_data - Sheet1.csv\")\n",
    "df.head()\n",
    "\n"
   ]
  },
  {
   "cell_type": "code",
   "execution_count": 48,
   "id": "7b5f5e58",
   "metadata": {},
   "outputs": [
    {
     "data": {
      "text/html": [
       "<div>\n",
       "<style scoped>\n",
       "    .dataframe tbody tr th:only-of-type {\n",
       "        vertical-align: middle;\n",
       "    }\n",
       "\n",
       "    .dataframe tbody tr th {\n",
       "        vertical-align: top;\n",
       "    }\n",
       "\n",
       "    .dataframe thead th {\n",
       "        text-align: right;\n",
       "    }\n",
       "</style>\n",
       "<table border=\"1\" class=\"dataframe\">\n",
       "  <thead>\n",
       "    <tr style=\"text-align: right;\">\n",
       "      <th></th>\n",
       "      <th>sector</th>\n",
       "      <th>Ticker</th>\n",
       "    </tr>\n",
       "  </thead>\n",
       "  <tbody>\n",
       "    <tr>\n",
       "      <th>0</th>\n",
       "      <td>MISCELLANEOUS</td>\n",
       "      <td>ADANI ENTERPRISES: ADANIGREEN</td>\n",
       "    </tr>\n",
       "    <tr>\n",
       "      <th>1</th>\n",
       "      <td>MISCELLANEOUS</td>\n",
       "      <td>ADANI PORTS &amp; SEZ: ADANIPORTS</td>\n",
       "    </tr>\n",
       "    <tr>\n",
       "      <th>2</th>\n",
       "      <td>MISCELLANEOUS</td>\n",
       "      <td>APOLLO HOSPITALS: APOLLOHOSP</td>\n",
       "    </tr>\n",
       "    <tr>\n",
       "      <th>3</th>\n",
       "      <td>PAINTS</td>\n",
       "      <td>ASIAN PAINTS: ASIANPAINT</td>\n",
       "    </tr>\n",
       "    <tr>\n",
       "      <th>4</th>\n",
       "      <td>BANKING</td>\n",
       "      <td>AXIS BANK: AXISBANK</td>\n",
       "    </tr>\n",
       "  </tbody>\n",
       "</table>\n",
       "</div>"
      ],
      "text/plain": [
       "          sector                         Ticker\n",
       "0  MISCELLANEOUS  ADANI ENTERPRISES: ADANIGREEN\n",
       "1  MISCELLANEOUS  ADANI PORTS & SEZ: ADANIPORTS\n",
       "2  MISCELLANEOUS   APOLLO HOSPITALS: APOLLOHOSP\n",
       "3         PAINTS       ASIAN PAINTS: ASIANPAINT\n",
       "4        BANKING            AXIS BANK: AXISBANK"
      ]
     },
     "execution_count": 48,
     "metadata": {},
     "output_type": "execute_result"
    }
   ],
   "source": [
    "df = df.rename(columns={'Symbol' : 'Ticker'})\n",
    "df = df.drop('COMPANY',axis = 1)\n",
    "\n",
    "\n",
    "df.head()"
   ]
  },
  {
   "cell_type": "code",
   "execution_count": 49,
   "id": "b1f9880e",
   "metadata": {},
   "outputs": [
    {
     "data": {
      "text/html": [
       "<div>\n",
       "<style scoped>\n",
       "    .dataframe tbody tr th:only-of-type {\n",
       "        vertical-align: middle;\n",
       "    }\n",
       "\n",
       "    .dataframe tbody tr th {\n",
       "        vertical-align: top;\n",
       "    }\n",
       "\n",
       "    .dataframe thead th {\n",
       "        text-align: right;\n",
       "    }\n",
       "</style>\n",
       "<table border=\"1\" class=\"dataframe\">\n",
       "  <thead>\n",
       "    <tr style=\"text-align: right;\">\n",
       "      <th></th>\n",
       "      <th>sector</th>\n",
       "      <th>Ticker</th>\n",
       "    </tr>\n",
       "  </thead>\n",
       "  <tbody>\n",
       "    <tr>\n",
       "      <th>0</th>\n",
       "      <td>MISCELLANEOUS</td>\n",
       "      <td>ADANIGREEN</td>\n",
       "    </tr>\n",
       "    <tr>\n",
       "      <th>1</th>\n",
       "      <td>MISCELLANEOUS</td>\n",
       "      <td>ADANIPORTS</td>\n",
       "    </tr>\n",
       "    <tr>\n",
       "      <th>2</th>\n",
       "      <td>MISCELLANEOUS</td>\n",
       "      <td>APOLLOHOSP</td>\n",
       "    </tr>\n",
       "    <tr>\n",
       "      <th>3</th>\n",
       "      <td>PAINTS</td>\n",
       "      <td>ASIANPAINT</td>\n",
       "    </tr>\n",
       "    <tr>\n",
       "      <th>4</th>\n",
       "      <td>BANKING</td>\n",
       "      <td>AXISBANK</td>\n",
       "    </tr>\n",
       "  </tbody>\n",
       "</table>\n",
       "</div>"
      ],
      "text/plain": [
       "          sector      Ticker\n",
       "0  MISCELLANEOUS  ADANIGREEN\n",
       "1  MISCELLANEOUS  ADANIPORTS\n",
       "2  MISCELLANEOUS  APOLLOHOSP\n",
       "3         PAINTS  ASIANPAINT\n",
       "4        BANKING    AXISBANK"
      ]
     },
     "execution_count": 49,
     "metadata": {},
     "output_type": "execute_result"
    }
   ],
   "source": [
    "def fix_to_value(s):\n",
    "    parts = s.split(':')\n",
    "    if len(parts) == 2:\n",
    "        return parts[1].strip()\n",
    "    return None\n",
    "\n",
    "df['Ticker'] = df['Ticker'].apply(fix_to_value)\n",
    "df.head()"
   ]
  },
  {
   "cell_type": "markdown",
   "id": "4b3178cf",
   "metadata": {},
   "source": [
    "#CHECK"
   ]
  },
  {
   "cell_type": "code",
   "execution_count": 50,
   "id": "dfeeb210",
   "metadata": {},
   "outputs": [
    {
     "data": {
      "text/plain": [
       "Index(['Ticker', 'close', 'high', 'low', 'open', 'volume', 'Day', 'Month',\n",
       "       'Year', 'Time', 'Daily_Return', '30-Day Volatility',\n",
       "       'Volatility Percentage', 'Cumulative Return', 'cum_Percentage'],\n",
       "      dtype='object')"
      ]
     },
     "execution_count": 50,
     "metadata": {},
     "output_type": "execute_result"
    }
   ],
   "source": [
    "\n",
    "a1 = pd.read_csv(r\"C:\\prj_stock_analysis\\datas\\aggregated_data_1\\ADANIENT.csv\")\n",
    "a1.columns"
   ]
  },
  {
   "cell_type": "markdown",
   "id": "85ddc795",
   "metadata": {},
   "source": [
    "YEARLY -> MERGING -> SORTING -> AVERAGE"
   ]
  },
  {
   "cell_type": "code",
   "execution_count": null,
   "id": "4ee01da7",
   "metadata": {},
   "outputs": [
    {
     "name": "stdout",
     "output_type": "stream",
     "text": [
      "successful\n"
     ]
    }
   ],
   "source": [
    "stock_folder = r\"C:\\prj_stock_analysis\\datas\\aggregated_data_1\"\n",
    "output_file = r\"C:\\prj_stock_analysis\\datas\\sector_avg_return.csv\"\n",
    "\n",
    "\n",
    "# yearly returns dic\n",
    "df_new_list = []\n",
    "\n",
    "\n",
    "\n",
    "for file in os.listdir(stock_folder):\n",
    "        Ticker = file.replace('.csv', '')  \n",
    "        file_path = os.path.join(stock_folder, file)\n",
    "        df1 = pd.read_csv(file_path) \n",
    "        \n",
    "\n",
    "        # Calculate Yearly Return\n",
    "        start_price = df1.iloc[0]['close']\n",
    "        end_price = df1.iloc[-1]['close']\n",
    "        yearly_return = ((end_price - start_price) / start_price) * 100\n",
    "        df_new_list.append({'Ticker': Ticker, 'Yearly Return': yearly_return})\n",
    "\n",
    "\n",
    "\n",
    "returns_df = pd.DataFrame(df_new_list)\n",
    "merged_df = pd.merge(returns_df, df, on='Ticker', how='left')\n",
    "sector_avg = merged_df.groupby('sector')['Yearly Return'].mean().reset_index()\n",
    "\n",
    "print(\"successful\")\n"
   ]
  },
  {
   "cell_type": "markdown",
   "id": "47091b81",
   "metadata": {},
   "source": [
    "SORTING AND SAVING"
   ]
  },
  {
   "cell_type": "code",
   "execution_count": 60,
   "id": "b7146cad",
   "metadata": {},
   "outputs": [
    {
     "data": {
      "text/html": [
       "<div>\n",
       "<style scoped>\n",
       "    .dataframe tbody tr th:only-of-type {\n",
       "        vertical-align: middle;\n",
       "    }\n",
       "\n",
       "    .dataframe tbody tr th {\n",
       "        vertical-align: top;\n",
       "    }\n",
       "\n",
       "    .dataframe thead th {\n",
       "        text-align: right;\n",
       "    }\n",
       "</style>\n",
       "<table border=\"1\" class=\"dataframe\">\n",
       "  <thead>\n",
       "    <tr style=\"text-align: right;\">\n",
       "      <th></th>\n",
       "      <th>sector</th>\n",
       "      <th>Yearly Return</th>\n",
       "    </tr>\n",
       "  </thead>\n",
       "  <tbody>\n",
       "    <tr>\n",
       "      <th>0</th>\n",
       "      <td>RETAILING</td>\n",
       "      <td>0.857101</td>\n",
       "    </tr>\n",
       "    <tr>\n",
       "      <th>1</th>\n",
       "      <td>AUTOMOBILES</td>\n",
       "      <td>0.819753</td>\n",
       "    </tr>\n",
       "    <tr>\n",
       "      <th>2</th>\n",
       "      <td>ALUMINIUM</td>\n",
       "      <td>0.729030</td>\n",
       "    </tr>\n",
       "    <tr>\n",
       "      <th>3</th>\n",
       "      <td>FINANCE</td>\n",
       "      <td>0.390374</td>\n",
       "    </tr>\n",
       "    <tr>\n",
       "      <th>4</th>\n",
       "      <td>CEMENT</td>\n",
       "      <td>0.372706</td>\n",
       "    </tr>\n",
       "    <tr>\n",
       "      <th>5</th>\n",
       "      <td>TEXTILES</td>\n",
       "      <td>0.352545</td>\n",
       "    </tr>\n",
       "    <tr>\n",
       "      <th>6</th>\n",
       "      <td>FMCG</td>\n",
       "      <td>0.346549</td>\n",
       "    </tr>\n",
       "    <tr>\n",
       "      <th>7</th>\n",
       "      <td>PAINTS</td>\n",
       "      <td>0.185507</td>\n",
       "    </tr>\n",
       "    <tr>\n",
       "      <th>8</th>\n",
       "      <td>BANKING</td>\n",
       "      <td>0.142651</td>\n",
       "    </tr>\n",
       "    <tr>\n",
       "      <th>9</th>\n",
       "      <td>STEEL</td>\n",
       "      <td>0.061598</td>\n",
       "    </tr>\n",
       "    <tr>\n",
       "      <th>10</th>\n",
       "      <td>ENGINEERING</td>\n",
       "      <td>0.015601</td>\n",
       "    </tr>\n",
       "    <tr>\n",
       "      <th>11</th>\n",
       "      <td>POWER</td>\n",
       "      <td>0.005632</td>\n",
       "    </tr>\n",
       "    <tr>\n",
       "      <th>12</th>\n",
       "      <td>INSURANCE</td>\n",
       "      <td>-0.136698</td>\n",
       "    </tr>\n",
       "    <tr>\n",
       "      <th>13</th>\n",
       "      <td>ENERGY</td>\n",
       "      <td>-0.220390</td>\n",
       "    </tr>\n",
       "    <tr>\n",
       "      <th>14</th>\n",
       "      <td>PHARMACEUTICALS</td>\n",
       "      <td>-0.282380</td>\n",
       "    </tr>\n",
       "    <tr>\n",
       "      <th>15</th>\n",
       "      <td>DEFENCE</td>\n",
       "      <td>-0.405515</td>\n",
       "    </tr>\n",
       "    <tr>\n",
       "      <th>16</th>\n",
       "      <td>SOFTWARE</td>\n",
       "      <td>-1.062692</td>\n",
       "    </tr>\n",
       "    <tr>\n",
       "      <th>17</th>\n",
       "      <td>MINING</td>\n",
       "      <td>-1.519120</td>\n",
       "    </tr>\n",
       "    <tr>\n",
       "      <th>18</th>\n",
       "      <td>MISCELLANEOUS</td>\n",
       "      <td>-1.520905</td>\n",
       "    </tr>\n",
       "    <tr>\n",
       "      <th>19</th>\n",
       "      <td>FOOD &amp; TOBACCO</td>\n",
       "      <td>-2.082511</td>\n",
       "    </tr>\n",
       "  </tbody>\n",
       "</table>\n",
       "</div>"
      ],
      "text/plain": [
       "             sector  Yearly Return\n",
       "0         RETAILING       0.857101\n",
       "1       AUTOMOBILES       0.819753\n",
       "2         ALUMINIUM       0.729030\n",
       "3           FINANCE       0.390374\n",
       "4            CEMENT       0.372706\n",
       "5          TEXTILES       0.352545\n",
       "6              FMCG       0.346549\n",
       "7            PAINTS       0.185507\n",
       "8           BANKING       0.142651\n",
       "9             STEEL       0.061598\n",
       "10      ENGINEERING       0.015601\n",
       "11            POWER       0.005632\n",
       "12        INSURANCE      -0.136698\n",
       "13           ENERGY      -0.220390\n",
       "14  PHARMACEUTICALS      -0.282380\n",
       "15          DEFENCE      -0.405515\n",
       "16         SOFTWARE      -1.062692\n",
       "17           MINING      -1.519120\n",
       "18    MISCELLANEOUS      -1.520905\n",
       "19   FOOD & TOBACCO      -2.082511"
      ]
     },
     "execution_count": 60,
     "metadata": {},
     "output_type": "execute_result"
    }
   ],
   "source": [
    "df3"
   ]
  },
  {
   "cell_type": "markdown",
   "id": "34efcf5d",
   "metadata": {},
   "source": [
    "SORTING -> SAVE -> PERCENTAGE ADDTION"
   ]
  },
  {
   "cell_type": "code",
   "execution_count": 61,
   "id": "3fa888fe",
   "metadata": {},
   "outputs": [],
   "source": [
    "sector_mean_df = sector_avg.sort_values(by='Yearly Return', ascending=False)\n",
    "sector_mean_df.to_csv(output_file, index=False)\n",
    "df3 = pd.read_csv(r\"C:\\prj_stock_analysis\\datas\\sector_avg_return.csv\")\n",
    "df3['Percentage'] = df3['Yearly Return'] * 100 \n",
    "df3.to_csv(r\"C:\\prj_stock_analysis\\datas\\sector_avg_return.csv\",index= False)\n"
   ]
  },
  {
   "cell_type": "code",
   "execution_count": 62,
   "id": "4e7deeec",
   "metadata": {},
   "outputs": [
    {
     "name": "stdout",
     "output_type": "stream",
     "text": [
      "Completed a part 😊😊😊😊😊😊😊😊😊😊\n"
     ]
    }
   ],
   "source": [
    "c = ''\n",
    "for i in range(10):\n",
    "    c += b'\\xF0\\x9F\\x98\\x8A'.decode('utf-8')\n",
    "print(\"Completed a part\", c)\n"
   ]
  }
 ],
 "metadata": {
  "kernelspec": {
   "display_name": "stock_analysis",
   "language": "python",
   "name": "python3"
  },
  "language_info": {
   "codemirror_mode": {
    "name": "ipython",
    "version": 3
   },
   "file_extension": ".py",
   "mimetype": "text/x-python",
   "name": "python",
   "nbconvert_exporter": "python",
   "pygments_lexer": "ipython3",
   "version": "3.12.8"
  }
 },
 "nbformat": 4,
 "nbformat_minor": 5
}

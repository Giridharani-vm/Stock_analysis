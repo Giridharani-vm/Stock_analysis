{
 "cells": [
  {
   "cell_type": "code",
   "execution_count": 2,
   "id": "1bb3b6f8",
   "metadata": {},
   "outputs": [],
   "source": [
    "import pandas as pd\n",
    "import os\n"
   ]
  },
  {
   "cell_type": "markdown",
   "id": "7b663af4",
   "metadata": {},
   "source": [
    "#C"
   ]
  },
  {
   "cell_type": "code",
   "execution_count": 3,
   "id": "ae865bab",
   "metadata": {},
   "outputs": [
    {
     "data": {
      "text/plain": [
       "Index(['Ticker', 'close', 'high', 'low', 'open', 'volume', 'Day', 'Month',\n",
       "       'Year', 'Time', 'Daily_Return', '30-Day Volatility',\n",
       "       'Volatility Percentage', 'Cumulative Return', 'cum_Percentage'],\n",
       "      dtype='object')"
      ]
     },
     "execution_count": 3,
     "metadata": {},
     "output_type": "execute_result"
    }
   ],
   "source": [
    "a1 = pd.read_csv(r\"C:\\prj_stock_analysis\\datas\\aggregated_data_1\\ADANIENT.csv\")\n",
    "a1.columns\n",
    "            "
   ]
  },
  {
   "cell_type": "markdown",
   "id": "22b1929c",
   "metadata": {},
   "source": [
    "Cum_returns -> for each stock"
   ]
  },
  {
   "cell_type": "code",
   "execution_count": null,
   "id": "cc6c0492",
   "metadata": {},
   "outputs": [],
   "source": [
    "folder_path = r\"C:\\prj_stock_analysis\\datas\\aggregated_data_1\"\n",
    "\n",
    "for file in os.listdir(folder_path):\n",
    "        ticker = file.replace('.csv', '')  \n",
    "        file_path = os.path.join(folder_path, file)\n",
    "        df = pd.read_csv(file_path) \n",
    "        \n",
    "        # Calculate Cumulative Return\n",
    "        df['Cumulative Return'] = (1 + df['Daily_Return']).cumprod() - 1\n",
    "\n",
    "        # Save the updated file\n",
    "        df.to_csv(file_path, index=False)\n",
    "\n",
    "        print(f\"{ticker} : Saved\")\n"
   ]
  },
  {
   "cell_type": "code",
   "execution_count": null,
   "id": "ea6538b2",
   "metadata": {},
   "outputs": [],
   "source": [
    "a1.head()"
   ]
  },
  {
   "cell_type": "markdown",
   "id": "ba1b4e1e",
   "metadata": {},
   "source": [
    "Percentage(column) -> mean -> percentage(mean)"
   ]
  },
  {
   "cell_type": "code",
   "execution_count": 10,
   "id": "7fa0c2ed",
   "metadata": {},
   "outputs": [
    {
     "name": "stdout",
     "output_type": "stream",
     "text": [
      "Done for C:\\prj_stock_analysis\\datas\\aggregated_data_1\\ADANIENT.csv\n",
      "Done for C:\\prj_stock_analysis\\datas\\aggregated_data_1\\ADANIPORTS.csv\n",
      "Done for C:\\prj_stock_analysis\\datas\\aggregated_data_1\\APOLLOHOSP.csv\n",
      "Done for C:\\prj_stock_analysis\\datas\\aggregated_data_1\\ASIANPAINT.csv\n",
      "Done for C:\\prj_stock_analysis\\datas\\aggregated_data_1\\AXISBANK.csv\n",
      "Done for C:\\prj_stock_analysis\\datas\\aggregated_data_1\\BAJAJ-AUTO.csv\n",
      "Done for C:\\prj_stock_analysis\\datas\\aggregated_data_1\\BAJAJFINSV.csv\n",
      "Done for C:\\prj_stock_analysis\\datas\\aggregated_data_1\\BAJFINANCE.csv\n",
      "Done for C:\\prj_stock_analysis\\datas\\aggregated_data_1\\BEL.csv\n",
      "Done for C:\\prj_stock_analysis\\datas\\aggregated_data_1\\BHARTIARTL.csv\n",
      "Done for C:\\prj_stock_analysis\\datas\\aggregated_data_1\\BPCL.csv\n",
      "Done for C:\\prj_stock_analysis\\datas\\aggregated_data_1\\BRITANNIA.csv\n",
      "Done for C:\\prj_stock_analysis\\datas\\aggregated_data_1\\CIPLA.csv\n",
      "Done for C:\\prj_stock_analysis\\datas\\aggregated_data_1\\COALINDIA.csv\n",
      "Done for C:\\prj_stock_analysis\\datas\\aggregated_data_1\\DRREDDY.csv\n",
      "Done for C:\\prj_stock_analysis\\datas\\aggregated_data_1\\EICHERMOT.csv\n",
      "Done for C:\\prj_stock_analysis\\datas\\aggregated_data_1\\GRASIM.csv\n",
      "Done for C:\\prj_stock_analysis\\datas\\aggregated_data_1\\HCLTECH.csv\n",
      "Done for C:\\prj_stock_analysis\\datas\\aggregated_data_1\\HDFCBANK.csv\n",
      "Done for C:\\prj_stock_analysis\\datas\\aggregated_data_1\\HDFCLIFE.csv\n",
      "Done for C:\\prj_stock_analysis\\datas\\aggregated_data_1\\HEROMOTOCO.csv\n",
      "Done for C:\\prj_stock_analysis\\datas\\aggregated_data_1\\HINDALCO.csv\n",
      "Done for C:\\prj_stock_analysis\\datas\\aggregated_data_1\\HINDUNILVR.csv\n",
      "Done for C:\\prj_stock_analysis\\datas\\aggregated_data_1\\ICICIBANK.csv\n",
      "Done for C:\\prj_stock_analysis\\datas\\aggregated_data_1\\INDUSINDBK.csv\n",
      "Done for C:\\prj_stock_analysis\\datas\\aggregated_data_1\\INFY.csv\n",
      "Done for C:\\prj_stock_analysis\\datas\\aggregated_data_1\\ITC.csv\n",
      "Done for C:\\prj_stock_analysis\\datas\\aggregated_data_1\\JSWSTEEL.csv\n",
      "Done for C:\\prj_stock_analysis\\datas\\aggregated_data_1\\KOTAKBANK.csv\n",
      "Done for C:\\prj_stock_analysis\\datas\\aggregated_data_1\\LT.csv\n",
      "Done for C:\\prj_stock_analysis\\datas\\aggregated_data_1\\M&M.csv\n",
      "Done for C:\\prj_stock_analysis\\datas\\aggregated_data_1\\MARUTI.csv\n",
      "Done for C:\\prj_stock_analysis\\datas\\aggregated_data_1\\NESTLEIND.csv\n",
      "Done for C:\\prj_stock_analysis\\datas\\aggregated_data_1\\NTPC.csv\n",
      "Done for C:\\prj_stock_analysis\\datas\\aggregated_data_1\\ONGC.csv\n",
      "Done for C:\\prj_stock_analysis\\datas\\aggregated_data_1\\POWERGRID.csv\n",
      "Done for C:\\prj_stock_analysis\\datas\\aggregated_data_1\\RELIANCE.csv\n",
      "Done for C:\\prj_stock_analysis\\datas\\aggregated_data_1\\SBILIFE.csv\n",
      "Done for C:\\prj_stock_analysis\\datas\\aggregated_data_1\\SBIN.csv\n",
      "Done for C:\\prj_stock_analysis\\datas\\aggregated_data_1\\SHRIRAMFIN.csv\n",
      "Done for C:\\prj_stock_analysis\\datas\\aggregated_data_1\\SUNPHARMA.csv\n",
      "Done for C:\\prj_stock_analysis\\datas\\aggregated_data_1\\TATACONSUM.csv\n",
      "Done for C:\\prj_stock_analysis\\datas\\aggregated_data_1\\TATAMOTORS.csv\n",
      "Done for C:\\prj_stock_analysis\\datas\\aggregated_data_1\\TATASTEEL.csv\n",
      "Done for C:\\prj_stock_analysis\\datas\\aggregated_data_1\\TCS.csv\n",
      "Done for C:\\prj_stock_analysis\\datas\\aggregated_data_1\\TECHM.csv\n",
      "Done for C:\\prj_stock_analysis\\datas\\aggregated_data_1\\TITAN.csv\n",
      "Done for C:\\prj_stock_analysis\\datas\\aggregated_data_1\\TRENT.csv\n",
      "Done for C:\\prj_stock_analysis\\datas\\aggregated_data_1\\ULTRACEMCO.csv\n",
      "Done for C:\\prj_stock_analysis\\datas\\aggregated_data_1\\WIPRO.csv\n",
      "done successfully 😊\n"
     ]
    }
   ],
   "source": [
    "folder_path = r\"C:\\prj_stock_analysis\\datas\\aggregated_data_1\"\n",
    "\n",
    "\n",
    "stock_cum_data = []\n",
    "\n",
    "\n",
    "for file in os.listdir(folder_path):\n",
    "        ticker = file.replace('.csv', '')  \n",
    "        file_path = os.path.join(folder_path, file)\n",
    "        df = pd.read_csv(file_path) \n",
    "\n",
    "        df['cum_Percentage'] = df['Cumulative Return'] * 100 \n",
    "        df.to_csv(file_path, index=False)\n",
    "        \n",
    "        avg_cum_return = df['Cumulative Return'].mean()\n",
    "        percentage_cum =  avg_cum_return * 100 \n",
    "        stock_cum_data.append({'Ticker': ticker, 'avg_cum_return': avg_cum_return, 'percentage_cum' : percentage_cum})\n",
    "        \n",
    "        print(f\"Done for {file_path}\")\n",
    "\n",
    "cum_df = pd.DataFrame(stock_cum_data)\n",
    "cum_df = cum_df.sort_values(by='avg_cum_return', ascending=False)\n",
    "\n",
    "cum_df.to_csv(r\"C:\\prj_stock_analysis\\datas\\cumulative.csv\", index=False)\n",
    "\n",
    "print(\"done successfully\",b'\\xF0\\x9F\\x98\\x8A'.decode('utf-8'))"
   ]
  },
  {
   "cell_type": "markdown",
   "id": "6dd06cd2",
   "metadata": {},
   "source": [
    "top_10_cum Returns"
   ]
  },
  {
   "cell_type": "code",
   "execution_count": 11,
   "id": "e300ce94",
   "metadata": {},
   "outputs": [
    {
     "data": {
      "text/html": [
       "<div>\n",
       "<style scoped>\n",
       "    .dataframe tbody tr th:only-of-type {\n",
       "        vertical-align: middle;\n",
       "    }\n",
       "\n",
       "    .dataframe tbody tr th {\n",
       "        vertical-align: top;\n",
       "    }\n",
       "\n",
       "    .dataframe thead th {\n",
       "        text-align: right;\n",
       "    }\n",
       "</style>\n",
       "<table border=\"1\" class=\"dataframe\">\n",
       "  <thead>\n",
       "    <tr style=\"text-align: right;\">\n",
       "      <th></th>\n",
       "      <th>Ticker</th>\n",
       "      <th>avg_cum_return</th>\n",
       "      <th>percentage_cum</th>\n",
       "    </tr>\n",
       "  </thead>\n",
       "  <tbody>\n",
       "    <tr>\n",
       "      <th>0</th>\n",
       "      <td>TRENT</td>\n",
       "      <td>0.557829</td>\n",
       "      <td>55.782866</td>\n",
       "    </tr>\n",
       "    <tr>\n",
       "      <th>1</th>\n",
       "      <td>M&amp;M</td>\n",
       "      <td>0.322833</td>\n",
       "      <td>32.283310</td>\n",
       "    </tr>\n",
       "    <tr>\n",
       "      <th>2</th>\n",
       "      <td>BAJAJ-AUTO</td>\n",
       "      <td>0.282300</td>\n",
       "      <td>28.229984</td>\n",
       "    </tr>\n",
       "    <tr>\n",
       "      <th>3</th>\n",
       "      <td>BHARTIARTL</td>\n",
       "      <td>0.277546</td>\n",
       "      <td>27.754570</td>\n",
       "    </tr>\n",
       "    <tr>\n",
       "      <th>4</th>\n",
       "      <td>ONGC</td>\n",
       "      <td>0.267932</td>\n",
       "      <td>26.793177</td>\n",
       "    </tr>\n",
       "    <tr>\n",
       "      <th>5</th>\n",
       "      <td>BPCL</td>\n",
       "      <td>0.263956</td>\n",
       "      <td>26.395633</td>\n",
       "    </tr>\n",
       "    <tr>\n",
       "      <th>6</th>\n",
       "      <td>BEL</td>\n",
       "      <td>0.263817</td>\n",
       "      <td>26.381688</td>\n",
       "    </tr>\n",
       "    <tr>\n",
       "      <th>7</th>\n",
       "      <td>SHRIRAMFIN</td>\n",
       "      <td>0.256063</td>\n",
       "      <td>25.606341</td>\n",
       "    </tr>\n",
       "    <tr>\n",
       "      <th>8</th>\n",
       "      <td>SUNPHARMA</td>\n",
       "      <td>0.213059</td>\n",
       "      <td>21.305941</td>\n",
       "    </tr>\n",
       "    <tr>\n",
       "      <th>9</th>\n",
       "      <td>POWERGRID</td>\n",
       "      <td>0.205764</td>\n",
       "      <td>20.576420</td>\n",
       "    </tr>\n",
       "  </tbody>\n",
       "</table>\n",
       "</div>"
      ],
      "text/plain": [
       "       Ticker  avg_cum_return  percentage_cum\n",
       "0       TRENT        0.557829       55.782866\n",
       "1         M&M        0.322833       32.283310\n",
       "2  BAJAJ-AUTO        0.282300       28.229984\n",
       "3  BHARTIARTL        0.277546       27.754570\n",
       "4        ONGC        0.267932       26.793177\n",
       "5        BPCL        0.263956       26.395633\n",
       "6         BEL        0.263817       26.381688\n",
       "7  SHRIRAMFIN        0.256063       25.606341\n",
       "8   SUNPHARMA        0.213059       21.305941\n",
       "9   POWERGRID        0.205764       20.576420"
      ]
     },
     "metadata": {},
     "output_type": "display_data"
    }
   ],
   "source": [
    "df = pd.read_csv(r\"C:\\prj_stock_analysis\\datas\\cumulative.csv\")\n",
    "final_cum = df.head(10)\n",
    "final_cum.to_csv(r\"C:\\prj_stock_analysis\\datas\\final_top_5_cum.csv\",index=False)\n",
    "df_final = pd.read_csv(r\"C:\\prj_stock_analysis\\datas\\final_top_5_cum.csv\")\n",
    "display(df_final)"
   ]
  },
  {
   "cell_type": "code",
   "execution_count": 12,
   "id": "bba00664",
   "metadata": {},
   "outputs": [
    {
     "name": "stdout",
     "output_type": "stream",
     "text": [
      "Completed a part 😊😊😊😊😊😊😊😊😊😊\n"
     ]
    }
   ],
   "source": [
    "c = ''\n",
    "for i in range(10):\n",
    "    c += b'\\xF0\\x9F\\x98\\x8A'.decode('utf-8')\n",
    "print(\"Completed a part\", c)\n"
   ]
  }
 ],
 "metadata": {
  "kernelspec": {
   "display_name": "stock_analysis",
   "language": "python",
   "name": "python3"
  },
  "language_info": {
   "codemirror_mode": {
    "name": "ipython",
    "version": 3
   },
   "file_extension": ".py",
   "mimetype": "text/x-python",
   "name": "python",
   "nbconvert_exporter": "python",
   "pygments_lexer": "ipython3",
   "version": "3.12.8"
  }
 },
 "nbformat": 4,
 "nbformat_minor": 5
}

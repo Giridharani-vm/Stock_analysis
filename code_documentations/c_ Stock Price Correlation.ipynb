{
 "cells": [
  {
   "cell_type": "code",
   "execution_count": 1,
   "id": "26b85f69",
   "metadata": {},
   "outputs": [],
   "source": [
    "import pandas as pd\n",
    "import os "
   ]
  },
  {
   "cell_type": "code",
   "execution_count": 2,
   "id": "21b7b100",
   "metadata": {},
   "outputs": [
    {
     "data": {
      "text/plain": [
       "Index(['Ticker', 'close', 'high', 'low', 'open', 'volume', 'Day', 'Month',\n",
       "       'Year', 'Time', 'Daily_Return', '30-Day Volatility',\n",
       "       'Volatility Percentage', 'Cumulative Return', 'cum_Percentage'],\n",
       "      dtype='object')"
      ]
     },
     "execution_count": 2,
     "metadata": {},
     "output_type": "execute_result"
    }
   ],
   "source": [
    "a1 = pd.read_csv(r\"C:\\prj_stock_analysis\\datas\\aggregated_data_1\\ADANIENT.csv\")\n",
    "a1.columns"
   ]
  },
  {
   "cell_type": "markdown",
   "id": "3edf0cc9",
   "metadata": {},
   "source": [
    " CORRELATION MATRIX - USING DAILY RETURNS"
   ]
  },
  {
   "cell_type": "code",
   "execution_count": 3,
   "id": "195decf6",
   "metadata": {},
   "outputs": [
    {
     "name": "stdout",
     "output_type": "stream",
     "text": [
      "successfully saved\n"
     ]
    }
   ],
   "source": [
    "folder_path = r\"C:\\prj_stock_analysis\\datas\\aggregated_data_1\"\n",
    "\n",
    "returns_dict = {}\n",
    "\n",
    "\n",
    "for file in os.listdir(folder_path):\n",
    "        ticker = file.replace('.csv', '')  \n",
    "        file_path = os.path.join(folder_path, file)\n",
    "        df = pd.read_csv(file_path) \n",
    "        \n",
    "        df = pd.read_csv(file_path)\n",
    "        returns_dict[ticker] = df['Daily_Return']\n",
    "\n",
    "\n",
    "returns_df = pd.DataFrame(returns_dict)\n",
    "correlation_matrix = returns_df.corr()\n",
    "correlation_matrix.to_csv(r\"C:\\prj_stock_analysis\\datas\\correlation_matrix.csv\")\n",
    "\n",
    "\n",
    "average_correlation = correlation_matrix.mean(axis=1).reset_index()\n",
    "average_correlation.columns = ['Ticker', 'Average_Correlation']\n",
    "average_correlation.to_csv(r'C:\\prj_stock_analysis\\datas\\average_correlation.csv', index=False)\n",
    "\n",
    "\n",
    "print(\"successfully saved\")\n"
   ]
  },
  {
   "cell_type": "markdown",
   "id": "11640213",
   "metadata": {},
   "source": [
    "#check"
   ]
  },
  {
   "cell_type": "code",
   "execution_count": null,
   "id": "8ebc21c7",
   "metadata": {},
   "outputs": [
    {
     "data": {
      "text/plain": [
       "Index(['Ticker', 'Average_Correlation'], dtype='object')"
      ]
     },
     "execution_count": 7,
     "metadata": {},
     "output_type": "execute_result"
    }
   ],
   "source": [
    "df = pd.read_csv(r\"C:\\prj_stock_analysis\\datas\\average_correlation.csv\")\n",
    "df.columns"
   ]
  },
  {
   "cell_type": "markdown",
   "id": "ccc92997",
   "metadata": {},
   "source": [
    "Percentage"
   ]
  },
  {
   "cell_type": "code",
   "execution_count": 10,
   "id": "e6500ae5",
   "metadata": {},
   "outputs": [],
   "source": [
    "df[\"Percentage\"] = df[\"Average_Correlation\"] * 100\n",
    "df.to_csv(r\"C:\\prj_stock_analysis\\datas\\average_correlation.csv\")"
   ]
  },
  {
   "cell_type": "code",
   "execution_count": 12,
   "id": "30cd0f8d",
   "metadata": {},
   "outputs": [
    {
     "data": {
      "text/plain": [
       "Index(['Unnamed: 0', 'Ticker', 'Average_Correlation', 'Percentage'], dtype='object')"
      ]
     },
     "execution_count": 12,
     "metadata": {},
     "output_type": "execute_result"
    }
   ],
   "source": [
    "df = pd.read_csv(r\"C:\\prj_stock_analysis\\datas\\correlation\\average_correlation.csv\")\n",
    "df.columns"
   ]
  },
  {
   "cell_type": "markdown",
   "id": "7f24d146",
   "metadata": {},
   "source": [
    "Code to change columns to rows"
   ]
  },
  {
   "cell_type": "code",
   "execution_count": null,
   "id": "f21ef644",
   "metadata": {},
   "outputs": [],
   "source": [
    "# df = pd.read_csv(r'C:\\prj_stock_analysis\\datas\\correlation\\average_correlation.csv')  \n",
    "\n",
    "\n",
    "# rows = [\n",
    "#     df['Ticker'].values.tolist(),              \n",
    "#     df['Average_Correlation'].values.tolist(), \n",
    "#     df['Percentage'].values.tolist()            \n",
    "# ]\n",
    "\n",
    "\n",
    "# transformed_df = pd.DataFrame(rows, columns=df['Ticker'], index=['Ticker', 'Average_Correlation', 'Percentage'])\n",
    "# transformed_df.to_csv(r'C:\\prj_stock_analysis\\datas\\correlation\\transformed_data.csv', index=True)\n",
    "# print(transformed_df)\n",
    "\n"
   ]
  },
  {
   "cell_type": "code",
   "execution_count": 34,
   "id": "29e9e993",
   "metadata": {},
   "outputs": [
    {
     "name": "stdout",
     "output_type": "stream",
     "text": [
      "Completed a part 😊😊😊😊😊😊😊😊😊😊\n"
     ]
    }
   ],
   "source": [
    "c = ''\n",
    "for i in range(10):\n",
    "    c += b'\\xF0\\x9F\\x98\\x8A'.decode('utf-8')\n",
    "print(\"Completed a part\", c)\n"
   ]
  }
 ],
 "metadata": {
  "kernelspec": {
   "display_name": "stock_analysis",
   "language": "python",
   "name": "python3"
  },
  "language_info": {
   "codemirror_mode": {
    "name": "ipython",
    "version": 3
   },
   "file_extension": ".py",
   "mimetype": "text/x-python",
   "name": "python",
   "nbconvert_exporter": "python",
   "pygments_lexer": "ipython3",
   "version": "3.12.8"
  }
 },
 "nbformat": 4,
 "nbformat_minor": 5
}
